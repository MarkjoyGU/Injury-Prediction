{
 "cells": [
  {
   "cell_type": "code",
   "execution_count": 4,
   "metadata": {},
   "outputs": [],
   "source": [
    "import numpy as np\n",
    "import bokeh \n",
    "import matplotlib.mlab as mlab\n",
    "import matplotlib.pyplot as plt\n",
    "import pandas as pd\n",
    "import seaborn as sns\n",
    "\n",
    "sns.set(style=\"ticks\", color_codes = True)\n",
    "%matplotlib inline"
   ]
  },
  {
   "cell_type": "code",
   "execution_count": 5,
   "metadata": {},
   "outputs": [],
   "source": [
    "file_encoding = 'utf-8'\n",
    "injuries_file = 'data/severeinjury.csv'\n",
    "pd.set_option('display.max_columns',None)"
   ]
  },
  {
   "cell_type": "code",
   "execution_count": 6,
   "metadata": {},
   "outputs": [],
   "source": [
    "injury_data = pd.read_csv(injuries_file, encoding = 'cp850', dtype = 'unicode')"
   ]
  },
  {
   "cell_type": "code",
   "execution_count": null,
   "metadata": {},
   "outputs": [],
   "source": [
    "injury_data.head()"
   ]
  },
  {
   "cell_type": "code",
   "execution_count": 7,
   "metadata": {},
   "outputs": [
    {
     "data": {
      "text/html": [
       "<div>\n",
       "<style scoped>\n",
       "    .dataframe tbody tr th:only-of-type {\n",
       "        vertical-align: middle;\n",
       "    }\n",
       "\n",
       "    .dataframe tbody tr th {\n",
       "        vertical-align: top;\n",
       "    }\n",
       "\n",
       "    .dataframe thead th {\n",
       "        text-align: right;\n",
       "    }\n",
       "</style>\n",
       "<table border=\"1\" class=\"dataframe\">\n",
       "  <thead>\n",
       "    <tr style=\"text-align: right;\">\n",
       "      <th></th>\n",
       "      <th>EventDate</th>\n",
       "      <th>Zip</th>\n",
       "      <th>Latitude</th>\n",
       "      <th>Longitude</th>\n",
       "      <th>Part of Body</th>\n",
       "    </tr>\n",
       "  </thead>\n",
       "  <tbody>\n",
       "    <tr>\n",
       "      <th>0</th>\n",
       "      <td>1/1/2015</td>\n",
       "      <td>10963</td>\n",
       "      <td>41.46</td>\n",
       "      <td>-74.53</td>\n",
       "      <td>513</td>\n",
       "    </tr>\n",
       "    <tr>\n",
       "      <th>1</th>\n",
       "      <td>1/1/2015</td>\n",
       "      <td>53940</td>\n",
       "      <td>43.59</td>\n",
       "      <td>-89.79</td>\n",
       "      <td>519</td>\n",
       "    </tr>\n",
       "    <tr>\n",
       "      <th>2</th>\n",
       "      <td>1/1/2015</td>\n",
       "      <td>15108</td>\n",
       "      <td>40.49</td>\n",
       "      <td>-80.11</td>\n",
       "      <td>9999</td>\n",
       "    </tr>\n",
       "    <tr>\n",
       "      <th>3</th>\n",
       "      <td>1/1/2015</td>\n",
       "      <td>31206</td>\n",
       "      <td>32.77</td>\n",
       "      <td>-83.65</td>\n",
       "      <td>510</td>\n",
       "    </tr>\n",
       "    <tr>\n",
       "      <th>4</th>\n",
       "      <td>1/1/2015</td>\n",
       "      <td>53545</td>\n",
       "      <td>42.67</td>\n",
       "      <td>-89.04</td>\n",
       "      <td>4429</td>\n",
       "    </tr>\n",
       "  </tbody>\n",
       "</table>\n",
       "</div>"
      ],
      "text/plain": [
       "  EventDate    Zip Latitude Longitude Part of Body\n",
       "0  1/1/2015  10963    41.46    -74.53          513\n",
       "1  1/1/2015  53940    43.59    -89.79          519\n",
       "2  1/1/2015  15108    40.49    -80.11         9999\n",
       "3  1/1/2015  31206    32.77    -83.65          510\n",
       "4  1/1/2015  53545    42.67    -89.04         4429"
      ]
     },
     "execution_count": 7,
     "metadata": {},
     "output_type": "execute_result"
    }
   ],
   "source": [
    "monthly_injuries = injury_data[['EventDate','Zip','Latitude','Longitude','Part of Body']]\n",
    "monthly_injuries.head()"
   ]
  },
  {
   "cell_type": "code",
   "execution_count": null,
   "metadata": {},
   "outputs": [],
   "source": [
    "print(monthly_injuries.count())\n",
    "print('\\nThere are '+ str(monthly_injuries['EventDate'].count())+ ' Events in the dataset')\n",
    "print('There are '+ str(monthly_injuries['Zip'].nunique()) + ' Zip Codes in the dataset')"
   ]
  },
  {
   "cell_type": "code",
   "execution_count": 8,
   "metadata": {},
   "outputs": [
    {
     "name": "stderr",
     "output_type": "stream",
     "text": [
      "C:\\Users\\gskotzko\\.conda\\envs\\gtown\\lib\\site-packages\\ipykernel_launcher.py:1: SettingWithCopyWarning: \n",
      "A value is trying to be set on a copy of a slice from a DataFrame.\n",
      "Try using .loc[row_indexer,col_indexer] = value instead\n",
      "\n",
      "See the caveats in the documentation: http://pandas.pydata.org/pandas-docs/stable/indexing.html#indexing-view-versus-copy\n",
      "  \"\"\"Entry point for launching an IPython kernel.\n"
     ]
    }
   ],
   "source": [
    "monthly_injuries['EventDate'] = monthly_injuries['EventDate'].astype('datetime64')"
   ]
  },
  {
   "cell_type": "code",
   "execution_count": null,
   "metadata": {},
   "outputs": [],
   "source": [
    "monthly_injuries.head()"
   ]
  },
  {
   "cell_type": "code",
   "execution_count": null,
   "metadata": {},
   "outputs": [],
   "source": [
    "monthly_injuries['Month'] = pd.DatetimeIndex(monthly_injuries['EventDate']).month"
   ]
  },
  {
   "cell_type": "code",
   "execution_count": null,
   "metadata": {},
   "outputs": [],
   "source": [
    "monthly_injuries.head()\n"
   ]
  },
  {
   "cell_type": "code",
   "execution_count": null,
   "metadata": {},
   "outputs": [],
   "source": [
    "#Just trying to see what's in here. Frequency, etc of injuries by month....over 3 years.\n",
    "g=sns.pairplot(monthly_injuries, height = 5, hue = 'Month',vars = ['Part of Body','Month'])"
   ]
  },
  {
   "cell_type": "code",
   "execution_count": 9,
   "metadata": {},
   "outputs": [],
   "source": [
    "#This could be done much more pythonicly with a for loop \"for year in years...\"\n",
    "import datetime as dt\n",
    "injuries_2015=monthly_injuries[monthly_injuries['EventDate'].dt.year==2015]\n",
    "injuries_2016=monthly_injuries[monthly_injuries['EventDate'].dt.year==2016]\n",
    "injuries_2017=monthly_injuries[monthly_injuries['EventDate'].dt.year ==2017]\n",
    "injuries_2018=monthly_injuries[monthly_injuries['EventDate'].dt.year==2018]"
   ]
  },
  {
   "cell_type": "code",
   "execution_count": 10,
   "metadata": {},
   "outputs": [
    {
     "data": {
      "text/plain": [
       "EventDate        366\n",
       "Zip             5448\n",
       "Latitude        1909\n",
       "Longitude       2939\n",
       "Part of Body     103\n",
       "dtype: int64"
      ]
     },
     "execution_count": 10,
     "metadata": {},
     "output_type": "execute_result"
    }
   ],
   "source": [
    "injuries_2016.nunique()"
   ]
  },
  {
   "cell_type": "code",
   "execution_count": 11,
   "metadata": {},
   "outputs": [
    {
     "data": {
      "text/html": [
       "<div>\n",
       "<style scoped>\n",
       "    .dataframe tbody tr th:only-of-type {\n",
       "        vertical-align: middle;\n",
       "    }\n",
       "\n",
       "    .dataframe tbody tr th {\n",
       "        vertical-align: top;\n",
       "    }\n",
       "\n",
       "    .dataframe thead th {\n",
       "        text-align: right;\n",
       "    }\n",
       "</style>\n",
       "<table border=\"1\" class=\"dataframe\">\n",
       "  <thead>\n",
       "    <tr style=\"text-align: right;\">\n",
       "      <th></th>\n",
       "      <th>EventDate</th>\n",
       "      <th>Zip</th>\n",
       "      <th>Latitude</th>\n",
       "      <th>Longitude</th>\n",
       "      <th>Part of Body</th>\n",
       "    </tr>\n",
       "  </thead>\n",
       "  <tbody>\n",
       "    <tr>\n",
       "      <th>9856</th>\n",
       "      <td>2016-01-01</td>\n",
       "      <td>81620</td>\n",
       "      <td>39.63</td>\n",
       "      <td>-106.52</td>\n",
       "      <td>511</td>\n",
       "    </tr>\n",
       "    <tr>\n",
       "      <th>9857</th>\n",
       "      <td>2016-01-01</td>\n",
       "      <td>81501</td>\n",
       "      <td>39.08</td>\n",
       "      <td>-108.58</td>\n",
       "      <td>4422</td>\n",
       "    </tr>\n",
       "    <tr>\n",
       "      <th>9858</th>\n",
       "      <td>2016-01-01</td>\n",
       "      <td>71854</td>\n",
       "      <td>33.42</td>\n",
       "      <td>-94.00</td>\n",
       "      <td>4422</td>\n",
       "    </tr>\n",
       "    <tr>\n",
       "      <th>9859</th>\n",
       "      <td>2016-01-01</td>\n",
       "      <td>67003</td>\n",
       "      <td>37.15</td>\n",
       "      <td>-98.03</td>\n",
       "      <td>510</td>\n",
       "    </tr>\n",
       "    <tr>\n",
       "      <th>9860</th>\n",
       "      <td>2016-01-01</td>\n",
       "      <td>75236</td>\n",
       "      <td>32.67</td>\n",
       "      <td>-96.96</td>\n",
       "      <td>1363</td>\n",
       "    </tr>\n",
       "  </tbody>\n",
       "</table>\n",
       "</div>"
      ],
      "text/plain": [
       "      EventDate    Zip Latitude Longitude Part of Body\n",
       "9856 2016-01-01  81620    39.63   -106.52          511\n",
       "9857 2016-01-01  81501    39.08   -108.58         4422\n",
       "9858 2016-01-01  71854    33.42    -94.00         4422\n",
       "9859 2016-01-01  67003    37.15    -98.03          510\n",
       "9860 2016-01-01  75236    32.67    -96.96         1363"
      ]
     },
     "execution_count": 11,
     "metadata": {},
     "output_type": "execute_result"
    }
   ],
   "source": [
    "injuries_2016.head()"
   ]
  },
  {
   "cell_type": "code",
   "execution_count": null,
   "metadata": {},
   "outputs": [],
   "source": [
    "g=sns.pairplot(injuries_2016, height=5, hue='Month', vars=['Part of Body','Month'])"
   ]
  },
  {
   "cell_type": "code",
   "execution_count": null,
   "metadata": {},
   "outputs": [],
   "source": [
    "g=sns.catplot(x='Month', y='Part of Body', data=injuries_2016)"
   ]
  },
  {
   "cell_type": "markdown",
   "metadata": {},
   "source": [
    "Experiment with groupby and sort methods to get data more cleanly sorted and graphed. Then do some statistical counting on injury groups by zipcode.\n",
    "Read up on pyflakes and pep8 unit testing."
   ]
  },
  {
   "cell_type": "code",
   "execution_count": null,
   "metadata": {},
   "outputs": [],
   "source": [
    "injuries_2016_byzip = injuries_2016.groupby(['Month','Zip','Part of Body'])"
   ]
  },
  {
   "cell_type": "code",
   "execution_count": null,
   "metadata": {},
   "outputs": [],
   "source": [
    "injuries_2016_byzip.head()"
   ]
  },
  {
   "cell_type": "code",
   "execution_count": null,
   "metadata": {},
   "outputs": [],
   "source": [
    "categorical_attributes = injuries_2016.select_dtypes(include=\"object\")\n",
    "plt.figure(figsize=(50,10))\n",
    "sns.countplot(data = categorical_attributes, x = \"Part of Body\")\n",
    "sns.catplot(x='Month',y=\"Part of Body\",data=injuries_2016)"
   ]
  },
  {
   "cell_type": "code",
   "execution_count": null,
   "metadata": {},
   "outputs": [],
   "source": [
    "inj2016_count= injuries_2016.groupby(['Month','Zip'])['Zip'].agg('count').to_frame('Counts').reset_index() \n",
    "#THINGS LEARNED: Can't have the column you want to count including in the groupby.\n",
    "inj2016_ll = injuries_2016.groupby(['Month','Zip'])['Part of Body'].agg('count').to_frame('Counts').reset_index()"
   ]
  },
  {
   "cell_type": "code",
   "execution_count": null,
   "metadata": {},
   "outputs": [],
   "source": [
    "inj2016_count.tail(30)\n",
    "inj2016_count.to_csv('data/2016_injurycounts.csv', encoding ='utf-8')"
   ]
  },
  {
   "cell_type": "code",
   "execution_count": null,
   "metadata": {},
   "outputs": [],
   "source": [
    "inj2016_ll.tail(30)"
   ]
  },
  {
   "cell_type": "code",
   "execution_count": null,
   "metadata": {},
   "outputs": [],
   "source": [
    "inj2016_count_2.tail(30)"
   ]
  },
  {
   "cell_type": "code",
   "execution_count": null,
   "metadata": {},
   "outputs": [],
   "source": [
    "sns.catplot(x='Month', y=\"Counts\", data = inj2016_count)"
   ]
  },
  {
   "cell_type": "code",
   "execution_count": null,
   "metadata": {},
   "outputs": [],
   "source": [
    "inj2016_count_3 = injuries_2016.groupby(['Month','Zip','Part of Body']).size().reset_index()"
   ]
  },
  {
   "cell_type": "code",
   "execution_count": null,
   "metadata": {},
   "outputs": [],
   "source": [
    "inj2016_count_3.head()"
   ]
  },
  {
   "cell_type": "code",
   "execution_count": null,
   "metadata": {},
   "outputs": [],
   "source": [
    "ids = inj2016_count['Zip']\n",
    "inj2016_count[ids.isin(ids[ids.duplicated()])].sort_index(axis = 1)"
   ]
  },
  {
   "cell_type": "code",
   "execution_count": null,
   "metadata": {},
   "outputs": [],
   "source": [
    "zipinj_2016 = injuries_2016.groupby(['Zip'])['Zip'].agg('count').to_frame('Counts').reset_index() "
   ]
  },
  {
   "cell_type": "code",
   "execution_count": null,
   "metadata": {},
   "outputs": [],
   "source": [
    "zipinj_2016.head()"
   ]
  },
  {
   "cell_type": "code",
   "execution_count": null,
   "metadata": {},
   "outputs": [],
   "source": [
    "inj2016_count.describe()"
   ]
  },
  {
   "cell_type": "code",
   "execution_count": null,
   "metadata": {},
   "outputs": [],
   "source": [
    "zipinj_2016.to_csv('./data/2016InjuriesByZip.csv')"
   ]
  },
  {
   "cell_type": "code",
   "execution_count": null,
   "metadata": {},
   "outputs": [],
   "source": [
    "injury_data.head()"
   ]
  },
  {
   "cell_type": "code",
   "execution_count": null,
   "metadata": {},
   "outputs": [],
   "source": []
  },
  {
   "cell_type": "code",
   "execution_count": null,
   "metadata": {
    "scrolled": true
   },
   "outputs": [],
   "source": [
    "df = injury_data\n",
    "df['EventDate'] = df['EventDate'].astype('datetime64')\n",
    "Florida = df.loc[(df['EventDate'].dt.year==2016) & (df['Zip'] == '32830')]"
   ]
  },
  {
   "cell_type": "code",
   "execution_count": null,
   "metadata": {},
   "outputs": [],
   "source": [
    "print(Florida)"
   ]
  },
  {
   "cell_type": "code",
   "execution_count": null,
   "metadata": {},
   "outputs": [],
   "source": [
    "Florida.to_csv('./data/Florida2016.csv')"
   ]
  },
  {
   "cell_type": "code",
   "execution_count": null,
   "metadata": {},
   "outputs": [],
   "source": [
    "zipinj_2016.loc[(zipinj_2016['Zip']=='32830')]"
   ]
  },
  {
   "cell_type": "code",
   "execution_count": null,
   "metadata": {},
   "outputs": [],
   "source": [
    "import numpy.linalg as la\n",
    "vec = np.array(zipinj_2016['Counts'])\n",
    "l1 = la.norm(vec,1)\n",
    "print(l1)\n",
    "l2 = la.norm(vec,2)\n",
    "print(l2)\n",
    "lin = la.norm(vec, np.inf)\n",
    "print(lin)"
   ]
  },
  {
   "cell_type": "code",
   "execution_count": null,
   "metadata": {},
   "outputs": [],
   "source": [
    "import geopandas as gpd"
   ]
  },
  {
   "cell_type": "code",
   "execution_count": 8,
   "metadata": {},
   "outputs": [],
   "source": [
    "import pandas as pd\n",
    "labels = ('bottom','left','top','right')\n",
    "data=[{'bottom':24.396308,'left':-124.848974,'top':49.384358,'right':-66.885444},{'bottom':51.214183,'left':-179.148909,'top':71.365162,'right':179.77847},\n",
    "      {'bottom':18.910361,'left': -178.334698 ,'top': 28.402123,'right': -154.806773}]\n",
    "coords = pd.DataFrame(data,index =['low48','AK','HI'])\n",
    "AKbounding = [51.214183,-179.148909,71.365162,179.77847]\n",
    "HIbounding = [18.910361, -178.334698 , 28.402123, -154.806773]"
   ]
  },
  {
   "cell_type": "code",
   "execution_count": 9,
   "metadata": {},
   "outputs": [
    {
     "data": {
      "text/html": [
       "<div>\n",
       "<style scoped>\n",
       "    .dataframe tbody tr th:only-of-type {\n",
       "        vertical-align: middle;\n",
       "    }\n",
       "\n",
       "    .dataframe tbody tr th {\n",
       "        vertical-align: top;\n",
       "    }\n",
       "\n",
       "    .dataframe thead th {\n",
       "        text-align: right;\n",
       "    }\n",
       "</style>\n",
       "<table border=\"1\" class=\"dataframe\">\n",
       "  <thead>\n",
       "    <tr style=\"text-align: right;\">\n",
       "      <th></th>\n",
       "      <th>bottom</th>\n",
       "      <th>left</th>\n",
       "      <th>right</th>\n",
       "      <th>top</th>\n",
       "    </tr>\n",
       "  </thead>\n",
       "  <tbody>\n",
       "    <tr>\n",
       "      <th>low48</th>\n",
       "      <td>24.396308</td>\n",
       "      <td>-124.848974</td>\n",
       "      <td>-66.885444</td>\n",
       "      <td>49.384358</td>\n",
       "    </tr>\n",
       "    <tr>\n",
       "      <th>AK</th>\n",
       "      <td>51.214183</td>\n",
       "      <td>-179.148909</td>\n",
       "      <td>179.778470</td>\n",
       "      <td>71.365162</td>\n",
       "    </tr>\n",
       "    <tr>\n",
       "      <th>HI</th>\n",
       "      <td>18.910361</td>\n",
       "      <td>-178.334698</td>\n",
       "      <td>-154.806773</td>\n",
       "      <td>28.402123</td>\n",
       "    </tr>\n",
       "  </tbody>\n",
       "</table>\n",
       "</div>"
      ],
      "text/plain": [
       "          bottom        left       right        top\n",
       "low48  24.396308 -124.848974  -66.885444  49.384358\n",
       "AK     51.214183 -179.148909  179.778470  71.365162\n",
       "HI     18.910361 -178.334698 -154.806773  28.402123"
      ]
     },
     "execution_count": 9,
     "metadata": {},
     "output_type": "execute_result"
    }
   ],
   "source": [
    "coords.head()"
   ]
  },
  {
   "cell_type": "code",
   "execution_count": 12,
   "metadata": {},
   "outputs": [],
   "source": [
    "df=injuries_2016"
   ]
  },
  {
   "cell_type": "code",
   "execution_count": 19,
   "metadata": {},
   "outputs": [],
   "source": [
    "bot_US = 24.396308\n",
    "left_US = -124.848974\n",
    "top_US = 49.384358\n",
    "right_US = -66.885444\n",
    "\n",
    "df.Latitude = df.Latitude.astype('float')\n",
    "df.Longitude= df.Longitude.astype('float')\n",
    "\n",
    "bot_HI = 18.910361\n",
    "left_HI = -178.334698\n",
    "top_HI = 28.402123\n",
    "right_HI= -154.806773\n",
    "\n",
    "bot_AK = 51.214183\n",
    "left_AK = -179.148909\n",
    "top_AK = 71.365162\n",
    "right_AK = 179.77847\n",
    "\n",
    "box1_cond = (bot_US <= df.Latitude) & (df.Latitude <= top_US) & (left_US <= df.Longitude) & (df.Longitude <= right_US)\n",
    "lower48 = df[box1_cond]"
   ]
  },
  {
   "cell_type": "code",
   "execution_count": 11,
   "metadata": {},
   "outputs": [
    {
     "data": {
      "text/html": [
       "<div>\n",
       "<style scoped>\n",
       "    .dataframe tbody tr th:only-of-type {\n",
       "        vertical-align: middle;\n",
       "    }\n",
       "\n",
       "    .dataframe tbody tr th {\n",
       "        vertical-align: top;\n",
       "    }\n",
       "\n",
       "    .dataframe thead th {\n",
       "        text-align: right;\n",
       "    }\n",
       "</style>\n",
       "<table border=\"1\" class=\"dataframe\">\n",
       "  <thead>\n",
       "    <tr style=\"text-align: right;\">\n",
       "      <th></th>\n",
       "      <th>EventDate</th>\n",
       "      <th>Zip</th>\n",
       "      <th>Latitude</th>\n",
       "      <th>Longitude</th>\n",
       "      <th>Part of Body</th>\n",
       "    </tr>\n",
       "  </thead>\n",
       "  <tbody>\n",
       "    <tr>\n",
       "      <th>9856</th>\n",
       "      <td>2016-01-01</td>\n",
       "      <td>81620</td>\n",
       "      <td>39.63</td>\n",
       "      <td>-106.52</td>\n",
       "      <td>511</td>\n",
       "    </tr>\n",
       "    <tr>\n",
       "      <th>9857</th>\n",
       "      <td>2016-01-01</td>\n",
       "      <td>81501</td>\n",
       "      <td>39.08</td>\n",
       "      <td>-108.58</td>\n",
       "      <td>4422</td>\n",
       "    </tr>\n",
       "    <tr>\n",
       "      <th>9858</th>\n",
       "      <td>2016-01-01</td>\n",
       "      <td>71854</td>\n",
       "      <td>33.42</td>\n",
       "      <td>-94.00</td>\n",
       "      <td>4422</td>\n",
       "    </tr>\n",
       "    <tr>\n",
       "      <th>9859</th>\n",
       "      <td>2016-01-01</td>\n",
       "      <td>67003</td>\n",
       "      <td>37.15</td>\n",
       "      <td>-98.03</td>\n",
       "      <td>510</td>\n",
       "    </tr>\n",
       "    <tr>\n",
       "      <th>9860</th>\n",
       "      <td>2016-01-01</td>\n",
       "      <td>75236</td>\n",
       "      <td>32.67</td>\n",
       "      <td>-96.96</td>\n",
       "      <td>1363</td>\n",
       "    </tr>\n",
       "  </tbody>\n",
       "</table>\n",
       "</div>"
      ],
      "text/plain": [
       "      EventDate    Zip  Latitude  Longitude Part of Body\n",
       "9856 2016-01-01  81620     39.63    -106.52          511\n",
       "9857 2016-01-01  81501     39.08    -108.58         4422\n",
       "9858 2016-01-01  71854     33.42     -94.00         4422\n",
       "9859 2016-01-01  67003     37.15     -98.03          510\n",
       "9860 2016-01-01  75236     32.67     -96.96         1363"
      ]
     },
     "execution_count": 11,
     "metadata": {},
     "output_type": "execute_result"
    }
   ],
   "source": [
    "lower48.head()"
   ]
  },
  {
   "cell_type": "code",
   "execution_count": 15,
   "metadata": {},
   "outputs": [],
   "source": [
    "df.Latitude = df.Latitude.astype(\"float\")\n",
    "df.Longitude =df.Longitude.astype(\"float\")"
   ]
  },
  {
   "cell_type": "code",
   "execution_count": 14,
   "metadata": {},
   "outputs": [],
   "source": [
    "def isitin(maybe):\n",
    "    for row in maybe:\n",
    "        if (bot_US <= maybe.Latitude) & (maybe.Latitude <= top_US) & (left_US <= maybe.Longitude) & (maybe.Longitude <= right_US):\n",
    "            return 1\n",
    "        elif (bot_HI <= maybe.Latitude) & (maybe.Latitude <= top_HI) & (left_HI <= maybe.Longitude) & (maybe.Longitude <= right_HI):\n",
    "            return 1\n",
    "        elif (bot_AK <= maybe.Latitude) & (maybe.Latitude <= top_AK) & (left_AK <= maybe.Longitude) & (maybe.Longitude <= right_AK):\n",
    "            return 1\n",
    "        else:\n",
    "            return 0       "
   ]
  },
  {
   "cell_type": "code",
   "execution_count": 20,
   "metadata": {},
   "outputs": [
    {
     "name": "stderr",
     "output_type": "stream",
     "text": [
      "C:\\Users\\gskotzko\\.conda\\envs\\gtown\\lib\\site-packages\\ipykernel_launcher.py:1: SettingWithCopyWarning: \n",
      "A value is trying to be set on a copy of a slice from a DataFrame.\n",
      "Try using .loc[row_indexer,col_indexer] = value instead\n",
      "\n",
      "See the caveats in the documentation: http://pandas.pydata.org/pandas-docs/stable/indexing.html#indexing-view-versus-copy\n",
      "  \"\"\"Entry point for launching an IPython kernel.\n"
     ]
    }
   ],
   "source": [
    "df['InsideUS'] = df.apply(isitin, axis=1)"
   ]
  },
  {
   "cell_type": "code",
   "execution_count": 26,
   "metadata": {
    "scrolled": true
   },
   "outputs": [
    {
     "data": {
      "text/plain": [
       "count    10092.000000\n",
       "mean         0.999207\n",
       "std          0.028145\n",
       "min          0.000000\n",
       "25%          1.000000\n",
       "50%          1.000000\n",
       "75%          1.000000\n",
       "max          1.000000\n",
       "Name: InsideUS, dtype: float64"
      ]
     },
     "execution_count": 26,
     "metadata": {},
     "output_type": "execute_result"
    }
   ],
   "source": [
    "df['InsideUS'].describe()"
   ]
  },
  {
   "cell_type": "code",
   "execution_count": 27,
   "metadata": {},
   "outputs": [
    {
     "data": {
      "text/html": [
       "<div>\n",
       "<style scoped>\n",
       "    .dataframe tbody tr th:only-of-type {\n",
       "        vertical-align: middle;\n",
       "    }\n",
       "\n",
       "    .dataframe tbody tr th {\n",
       "        vertical-align: top;\n",
       "    }\n",
       "\n",
       "    .dataframe thead th {\n",
       "        text-align: right;\n",
       "    }\n",
       "</style>\n",
       "<table border=\"1\" class=\"dataframe\">\n",
       "  <thead>\n",
       "    <tr style=\"text-align: right;\">\n",
       "      <th></th>\n",
       "      <th>EventDate</th>\n",
       "      <th>Zip</th>\n",
       "      <th>Latitude</th>\n",
       "      <th>Longitude</th>\n",
       "      <th>Part of Body</th>\n",
       "      <th>InsideUS</th>\n",
       "    </tr>\n",
       "  </thead>\n",
       "  <tbody>\n",
       "    <tr>\n",
       "      <th>19943</th>\n",
       "      <td>2016-12-30</td>\n",
       "      <td>43570</td>\n",
       "      <td>41.59</td>\n",
       "      <td>-84.42</td>\n",
       "      <td>899</td>\n",
       "      <td>1</td>\n",
       "    </tr>\n",
       "    <tr>\n",
       "      <th>19944</th>\n",
       "      <td>2016-12-30</td>\n",
       "      <td>64030</td>\n",
       "      <td>38.87</td>\n",
       "      <td>-94.54</td>\n",
       "      <td>899</td>\n",
       "      <td>1</td>\n",
       "    </tr>\n",
       "    <tr>\n",
       "      <th>19945</th>\n",
       "      <td>2016-12-31</td>\n",
       "      <td>70710</td>\n",
       "      <td>30.37</td>\n",
       "      <td>-91.25</td>\n",
       "      <td>440</td>\n",
       "      <td>1</td>\n",
       "    </tr>\n",
       "    <tr>\n",
       "      <th>19946</th>\n",
       "      <td>2016-12-31</td>\n",
       "      <td>75048</td>\n",
       "      <td>32.95</td>\n",
       "      <td>-96.59</td>\n",
       "      <td>4429</td>\n",
       "      <td>1</td>\n",
       "    </tr>\n",
       "    <tr>\n",
       "      <th>19947</th>\n",
       "      <td>2016-12-31</td>\n",
       "      <td>66215</td>\n",
       "      <td>38.96</td>\n",
       "      <td>-94.72</td>\n",
       "      <td>4429</td>\n",
       "      <td>1</td>\n",
       "    </tr>\n",
       "  </tbody>\n",
       "</table>\n",
       "</div>"
      ],
      "text/plain": [
       "       EventDate    Zip  Latitude  Longitude Part of Body  InsideUS\n",
       "19943 2016-12-30  43570     41.59     -84.42          899         1\n",
       "19944 2016-12-30  64030     38.87     -94.54          899         1\n",
       "19945 2016-12-31  70710     30.37     -91.25          440         1\n",
       "19946 2016-12-31  75048     32.95     -96.59         4429         1\n",
       "19947 2016-12-31  66215     38.96     -94.72         4429         1"
      ]
     },
     "execution_count": 27,
     "metadata": {},
     "output_type": "execute_result"
    }
   ],
   "source": [
    "df.tail()"
   ]
  },
  {
   "cell_type": "code",
   "execution_count": 31,
   "metadata": {},
   "outputs": [
    {
     "name": "stdout",
     "output_type": "stream",
     "text": [
      "(8, 6)\n"
     ]
    }
   ],
   "source": [
    "international = df['InsideUS']==0\n",
    "injuries_intl = df[international]\n",
    "print(injuries_intl.shape)"
   ]
  },
  {
   "cell_type": "code",
   "execution_count": null,
   "metadata": {},
   "outputs": [],
   "source": []
  }
 ],
 "metadata": {
  "kernelspec": {
   "display_name": "Python 3",
   "language": "python",
   "name": "python3"
  },
  "language_info": {
   "codemirror_mode": {
    "name": "ipython",
    "version": 3
   },
   "file_extension": ".py",
   "mimetype": "text/x-python",
   "name": "python",
   "nbconvert_exporter": "python",
   "pygments_lexer": "ipython3",
   "version": "3.6.8"
  }
 },
 "nbformat": 4,
 "nbformat_minor": 2
}
