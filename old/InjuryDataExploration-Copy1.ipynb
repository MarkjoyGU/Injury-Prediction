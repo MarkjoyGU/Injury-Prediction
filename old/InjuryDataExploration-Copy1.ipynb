{
 "cells": [
  {
   "cell_type": "code",
   "execution_count": 6,
   "metadata": {},
   "outputs": [],
   "source": [
    "import numpy as np\n",
    "import bokeh \n",
    "import matplotlib.mlab as mlab\n",
    "import matplotlib.pyplot as plt\n",
    "import pandas as pd\n",
    "import seaborn as sns\n",
    "\n",
    "sns.set(style=\"ticks\", color_codes = True)\n",
    "%matplotlib inline"
   ]
  },
  {
   "cell_type": "code",
   "execution_count": 7,
   "metadata": {},
   "outputs": [],
   "source": [
    "file_encoding = 'utf-8'\n",
    "injuries_file = 'data/severeinjury.csv'\n",
    "pd.set_option('display.max_columns',None)"
   ]
  },
  {
   "cell_type": "code",
   "execution_count": 8,
   "metadata": {},
   "outputs": [
    {
     "name": "stderr",
     "output_type": "stream",
     "text": [
      "C:\\Users\\gskotzko\\.conda\\envs\\gtown\\lib\\site-packages\\IPython\\core\\interactiveshell.py:3049: DtypeWarning: Columns (11) have mixed types. Specify dtype option on import or set low_memory=False.\n",
      "  interactivity=interactivity, compiler=compiler, result=result)\n"
     ]
    }
   ],
   "source": [
    "injury_data = pd.read_csv(injuries_file, encoding = 'cp850')"
   ]
  },
  {
   "cell_type": "code",
   "execution_count": 8,
   "metadata": {},
   "outputs": [
    {
     "data": {
      "text/html": [
       "<div>\n",
       "<style scoped>\n",
       "    .dataframe tbody tr th:only-of-type {\n",
       "        vertical-align: middle;\n",
       "    }\n",
       "\n",
       "    .dataframe tbody tr th {\n",
       "        vertical-align: top;\n",
       "    }\n",
       "\n",
       "    .dataframe thead th {\n",
       "        text-align: right;\n",
       "    }\n",
       "</style>\n",
       "<table border=\"1\" class=\"dataframe\">\n",
       "  <thead>\n",
       "    <tr style=\"text-align: right;\">\n",
       "      <th></th>\n",
       "      <th>ID</th>\n",
       "      <th>UPA</th>\n",
       "      <th>EventDate</th>\n",
       "      <th>Employer</th>\n",
       "      <th>Address1</th>\n",
       "      <th>Address2</th>\n",
       "      <th>City</th>\n",
       "      <th>State</th>\n",
       "      <th>Zip</th>\n",
       "      <th>Latitude</th>\n",
       "      <th>Longitude</th>\n",
       "      <th>Primary NAICS</th>\n",
       "      <th>Hospitalized</th>\n",
       "      <th>Amputation</th>\n",
       "      <th>Inspection</th>\n",
       "      <th>Final Narrative</th>\n",
       "      <th>Nature</th>\n",
       "      <th>NatureTitle</th>\n",
       "      <th>Part of Body</th>\n",
       "      <th>Part of Body Title</th>\n",
       "      <th>Event</th>\n",
       "      <th>EventTitle</th>\n",
       "      <th>Source</th>\n",
       "      <th>SourceTitle</th>\n",
       "      <th>Secondary Source</th>\n",
       "      <th>Secondary Source Title</th>\n",
       "    </tr>\n",
       "  </thead>\n",
       "  <tbody>\n",
       "    <tr>\n",
       "      <th>0</th>\n",
       "      <td>2015010015</td>\n",
       "      <td>931176</td>\n",
       "      <td>1/1/2015</td>\n",
       "      <td>FCI Otisville Federal Correctional Institution</td>\n",
       "      <td>Two Mile Drive</td>\n",
       "      <td>NaN</td>\n",
       "      <td>OTISVILLE</td>\n",
       "      <td>NEW YORK</td>\n",
       "      <td>10963</td>\n",
       "      <td>41.46</td>\n",
       "      <td>-74.53</td>\n",
       "      <td>922140</td>\n",
       "      <td>1.00</td>\n",
       "      <td>0.00</td>\n",
       "      <td>1018519</td>\n",
       "      <td>Three correctional facility guards were escort...</td>\n",
       "      <td>111</td>\n",
       "      <td>Fractures</td>\n",
       "      <td>513</td>\n",
       "      <td>Lower leg(s)</td>\n",
       "      <td>1214</td>\n",
       "      <td>Injured by physical contact with person while ...</td>\n",
       "      <td>5721</td>\n",
       "      <td>Co-worker</td>\n",
       "      <td>5772</td>\n",
       "      <td>Inmate or detainee in custody</td>\n",
       "    </tr>\n",
       "    <tr>\n",
       "      <th>1</th>\n",
       "      <td>2015010016</td>\n",
       "      <td>930267</td>\n",
       "      <td>1/1/2015</td>\n",
       "      <td>Kalahari Manufacturing LLC</td>\n",
       "      <td>171 Progress Drive</td>\n",
       "      <td>NaN</td>\n",
       "      <td>LAKE DELTON</td>\n",
       "      <td>WISCONSIN</td>\n",
       "      <td>53940</td>\n",
       "      <td>43.59</td>\n",
       "      <td>-89.79</td>\n",
       "      <td>339999</td>\n",
       "      <td>1.00</td>\n",
       "      <td>0.00</td>\n",
       "      <td>1016582</td>\n",
       "      <td>Employee in the Machine Shop received second d...</td>\n",
       "      <td>1522</td>\n",
       "      <td>Second degree heat (thermal) burns</td>\n",
       "      <td>519</td>\n",
       "      <td>Leg(s), n.e.c.</td>\n",
       "      <td>317</td>\n",
       "      <td>Ignition of vapors, gases, or liquids</td>\n",
       "      <td>7261</td>\n",
       "      <td>Welding, cutting, and blow torches</td>\n",
       "      <td>NaN</td>\n",
       "      <td>NaN</td>\n",
       "    </tr>\n",
       "    <tr>\n",
       "      <th>2</th>\n",
       "      <td>2015010018</td>\n",
       "      <td>929823</td>\n",
       "      <td>1/1/2015</td>\n",
       "      <td>Schneider National Bulk Carrier</td>\n",
       "      <td>420 CORAOPOLIS ROAD</td>\n",
       "      <td>NaN</td>\n",
       "      <td>CORAOPOLIS</td>\n",
       "      <td>PENNSYLVANIA</td>\n",
       "      <td>15108</td>\n",
       "      <td>40.49</td>\n",
       "      <td>-80.11</td>\n",
       "      <td>484121</td>\n",
       "      <td>1.00</td>\n",
       "      <td>0.00</td>\n",
       "      <td>NaN</td>\n",
       "      <td>A truck driver fell approximately 4 feet while...</td>\n",
       "      <td>10</td>\n",
       "      <td>Traumatic injuries and disorders, unspecified</td>\n",
       "      <td>9999</td>\n",
       "      <td>Nonclassifiable</td>\n",
       "      <td>4331</td>\n",
       "      <td>Other fall to lower level less than 6 feet</td>\n",
       "      <td>8421</td>\n",
       "      <td>Semi, tractor-trailer, tanker truck</td>\n",
       "      <td>741</td>\n",
       "      <td>Ladders-fixed</td>\n",
       "    </tr>\n",
       "    <tr>\n",
       "      <th>3</th>\n",
       "      <td>2015010019</td>\n",
       "      <td>929711</td>\n",
       "      <td>1/1/2015</td>\n",
       "      <td>PEPSI BOTTLING GROUP INC.</td>\n",
       "      <td>4541 HOUSTON AVE.</td>\n",
       "      <td>NaN</td>\n",
       "      <td>MACON</td>\n",
       "      <td>GEORGIA</td>\n",
       "      <td>31206</td>\n",
       "      <td>32.77</td>\n",
       "      <td>-83.65</td>\n",
       "      <td>424490</td>\n",
       "      <td>1.00</td>\n",
       "      <td>0.00</td>\n",
       "      <td>1017194</td>\n",
       "      <td>An employee's leg was pinned between a truck a...</td>\n",
       "      <td>1972</td>\n",
       "      <td>Soreness, pain, hurt-nonspecified injury</td>\n",
       "      <td>510</td>\n",
       "      <td>Leg(s), unspecified</td>\n",
       "      <td>640</td>\n",
       "      <td>Caught in or compressed by equipment or object...</td>\n",
       "      <td>8623</td>\n",
       "      <td>Pallet jack-powered</td>\n",
       "      <td>8420</td>\n",
       "      <td>Truck-motorized freight hauling and utility, u...</td>\n",
       "    </tr>\n",
       "    <tr>\n",
       "      <th>4</th>\n",
       "      <td>2015010020</td>\n",
       "      <td>929642</td>\n",
       "      <td>1/1/2015</td>\n",
       "      <td>North American Pipe Corporation</td>\n",
       "      <td>210 South Arch Street</td>\n",
       "      <td>NaN</td>\n",
       "      <td>JANESVILLE</td>\n",
       "      <td>WISCONSIN</td>\n",
       "      <td>53545</td>\n",
       "      <td>42.67</td>\n",
       "      <td>-89.04</td>\n",
       "      <td>326122</td>\n",
       "      <td>1.00</td>\n",
       "      <td>0.00</td>\n",
       "      <td>1016344</td>\n",
       "      <td>An employee working on the Line 6 Auto-Beller ...</td>\n",
       "      <td>111</td>\n",
       "      <td>Fractures</td>\n",
       "      <td>4429</td>\n",
       "      <td>Finger(s), fingernail(s), n.e.c.</td>\n",
       "      <td>6411</td>\n",
       "      <td>Caught in running equipment or machinery durin...</td>\n",
       "      <td>350</td>\n",
       "      <td>Metal, woodworking, and special material machi...</td>\n",
       "      <td>NaN</td>\n",
       "      <td>NaN</td>\n",
       "    </tr>\n",
       "  </tbody>\n",
       "</table>\n",
       "</div>"
      ],
      "text/plain": [
       "           ID     UPA EventDate  \\\n",
       "0  2015010015  931176  1/1/2015   \n",
       "1  2015010016  930267  1/1/2015   \n",
       "2  2015010018  929823  1/1/2015   \n",
       "3  2015010019  929711  1/1/2015   \n",
       "4  2015010020  929642  1/1/2015   \n",
       "\n",
       "                                         Employer               Address1  \\\n",
       "0  FCI Otisville Federal Correctional Institution         Two Mile Drive   \n",
       "1                      Kalahari Manufacturing LLC     171 Progress Drive   \n",
       "2                 Schneider National Bulk Carrier    420 CORAOPOLIS ROAD   \n",
       "3                       PEPSI BOTTLING GROUP INC.      4541 HOUSTON AVE.   \n",
       "4                 North American Pipe Corporation  210 South Arch Street   \n",
       "\n",
       "  Address2         City         State    Zip Latitude Longitude Primary NAICS  \\\n",
       "0      NaN    OTISVILLE      NEW YORK  10963    41.46    -74.53        922140   \n",
       "1      NaN  LAKE DELTON     WISCONSIN  53940    43.59    -89.79        339999   \n",
       "2      NaN   CORAOPOLIS  PENNSYLVANIA  15108    40.49    -80.11        484121   \n",
       "3      NaN        MACON       GEORGIA  31206    32.77    -83.65        424490   \n",
       "4      NaN   JANESVILLE     WISCONSIN  53545    42.67    -89.04        326122   \n",
       "\n",
       "  Hospitalized Amputation Inspection  \\\n",
       "0         1.00       0.00    1018519   \n",
       "1         1.00       0.00    1016582   \n",
       "2         1.00       0.00        NaN   \n",
       "3         1.00       0.00    1017194   \n",
       "4         1.00       0.00    1016344   \n",
       "\n",
       "                                     Final Narrative Nature  \\\n",
       "0  Three correctional facility guards were escort...    111   \n",
       "1  Employee in the Machine Shop received second d...   1522   \n",
       "2  A truck driver fell approximately 4 feet while...     10   \n",
       "3  An employee's leg was pinned between a truck a...   1972   \n",
       "4  An employee working on the Line 6 Auto-Beller ...    111   \n",
       "\n",
       "                                     NatureTitle Part of Body  \\\n",
       "0                                      Fractures          513   \n",
       "1             Second degree heat (thermal) burns          519   \n",
       "2  Traumatic injuries and disorders, unspecified         9999   \n",
       "3       Soreness, pain, hurt-nonspecified injury          510   \n",
       "4                                      Fractures         4429   \n",
       "\n",
       "                 Part of Body Title Event  \\\n",
       "0                      Lower leg(s)  1214   \n",
       "1                    Leg(s), n.e.c.   317   \n",
       "2                   Nonclassifiable  4331   \n",
       "3               Leg(s), unspecified   640   \n",
       "4  Finger(s), fingernail(s), n.e.c.  6411   \n",
       "\n",
       "                                          EventTitle Source  \\\n",
       "0  Injured by physical contact with person while ...   5721   \n",
       "1              Ignition of vapors, gases, or liquids   7261   \n",
       "2         Other fall to lower level less than 6 feet   8421   \n",
       "3  Caught in or compressed by equipment or object...   8623   \n",
       "4  Caught in running equipment or machinery durin...    350   \n",
       "\n",
       "                                         SourceTitle Secondary Source  \\\n",
       "0                                          Co-worker             5772   \n",
       "1                 Welding, cutting, and blow torches              NaN   \n",
       "2                Semi, tractor-trailer, tanker truck              741   \n",
       "3                                Pallet jack-powered             8420   \n",
       "4  Metal, woodworking, and special material machi...              NaN   \n",
       "\n",
       "                              Secondary Source Title  \n",
       "0                      Inmate or detainee in custody  \n",
       "1                                                NaN  \n",
       "2                                      Ladders-fixed  \n",
       "3  Truck-motorized freight hauling and utility, u...  \n",
       "4                                                NaN  "
      ]
     },
     "execution_count": 8,
     "metadata": {},
     "output_type": "execute_result"
    }
   ],
   "source": [
    "injury_data.head()"
   ]
  },
  {
   "cell_type": "code",
   "execution_count": null,
   "metadata": {},
   "outputs": [],
   "source": [
    "#Data was in an unsigned/unknown 8 bit format.\n",
    "#Used the codecs list to pick cp850 (https://docs.python.org/3/library/codecs.html#standard-encodings)\n",
    "pd.set_option('display.max_columns', None) \n",
    "file_encoding ='utf-8'\n",
    "input_fd = open('data/severeinjury2.csv', encoding = file_encoding, errors='backslashreplace')\n",
    "data = pd.read_csv(input_fd)\n",
    "data.to_csv('data/severeinjury_utf8.csv')"
   ]
  },
  {
   "cell_type": "code",
   "execution_count": null,
   "metadata": {},
   "outputs": [],
   "source": [
    "data['Primary NAICS'].dtype()"
   ]
  },
  {
   "cell_type": "code",
   "execution_count": null,
   "metadata": {},
   "outputs": [],
   "source": [
    "print('There are '+ str(data['State'].nunique())+ ' States in the dataset')\n",
    "print('There are '+ str(data['Zip'].nunique()) + ' Zip Codes in the dataset')"
   ]
  },
  {
   "cell_type": "code",
   "execution_count": null,
   "metadata": {},
   "outputs": [],
   "source": [
    "#g=sns.pairplot(data, height = 10, vars=['Hospitalized','Amputation'])\n",
    "data['Hospitalized']"
   ]
  },
  {
   "cell_type": "code",
   "execution_count": null,
   "metadata": {},
   "outputs": [],
   "source": [
    "data['Part of Body Title']"
   ]
  },
  {
   "cell_type": "code",
   "execution_count": null,
   "metadata": {},
   "outputs": [],
   "source": [
    "g=sns.pairplot(data, height = 10, vars=['Zip','Part of Body'])"
   ]
  },
  {
   "cell_type": "code",
   "execution_count": null,
   "metadata": {},
   "outputs": [],
   "source": [
    "injuries_2015=data[data['EventDate'].str.contains('2015')]\n",
    "injuries_2016=data[data['EventDate'].str.contains('2016')]\n",
    "injuries_2017=data[data['EventDate'].str.contains('2017')]\n",
    "injuries_2018=data[data['EventDate'].str.contains('2018')]"
   ]
  },
  {
   "cell_type": "code",
   "execution_count": null,
   "metadata": {},
   "outputs": [],
   "source": [
    "injuries_2016.nunique()"
   ]
  },
  {
   "cell_type": "code",
   "execution_count": null,
   "metadata": {},
   "outputs": [],
   "source": [
    "injuries_2016.count()"
   ]
  },
  {
   "cell_type": "code",
   "execution_count": null,
   "metadata": {},
   "outputs": [],
   "source": [
    "data.describe()"
   ]
  },
  {
   "cell_type": "code",
   "execution_count": null,
   "metadata": {},
   "outputs": [],
   "source": []
  },
  {
   "cell_type": "code",
   "execution_count": null,
   "metadata": {},
   "outputs": [],
   "source": [
    "data['Hospitalized'].count()"
   ]
  },
  {
   "cell_type": "code",
   "execution_count": null,
   "metadata": {},
   "outputs": [],
   "source": [
    "g=sns.pairplot(data, height=3, vars=['Zip','Nature'])"
   ]
  },
  {
   "cell_type": "code",
   "execution_count": null,
   "metadata": {},
   "outputs": [],
   "source": [
    "g=sns.relplot(x=\"State\", y=\"Nature\",data=data, height=10)"
   ]
  },
  {
   "cell_type": "code",
   "execution_count": null,
   "metadata": {},
   "outputs": [],
   "source": [
    "g=sns.relplot(x='EventDate',y='Nature',data=data)"
   ]
  },
  {
   "cell_type": "code",
   "execution_count": null,
   "metadata": {},
   "outputs": [],
   "source": []
  }
 ],
 "metadata": {
  "kernelspec": {
   "display_name": "Python 3",
   "language": "python",
   "name": "python3"
  },
  "language_info": {
   "codemirror_mode": {
    "name": "ipython",
    "version": 3
   },
   "file_extension": ".py",
   "mimetype": "text/x-python",
   "name": "python",
   "nbconvert_exporter": "python",
   "pygments_lexer": "ipython3",
   "version": "3.6.8"
  }
 },
 "nbformat": 4,
 "nbformat_minor": 2
}
