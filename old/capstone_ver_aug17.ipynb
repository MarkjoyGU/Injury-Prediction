{
 "cells": [
  {
   "cell_type": "code",
   "execution_count": 1,
   "metadata": {},
   "outputs": [],
   "source": [
    "import os\n",
    "import pandas as pd\n",
    "import numpy as np\n",
    "import matplotlib.pyplot as plt\n",
    "import seaborn as sns\n",
    "import psycopg2 as pg\n",
    "import seaborn as sns \n",
    "import matplotlib as mpl\n",
    "import matplotlib.pyplot as plt\n",
    "import datetime as datetime\n",
    "from time import strptime\n",
    "from sklearn.preprocessing import OrdinalEncoder, LabelEncoder\n",
    "from sklearn import preprocessing\n",
    "from yellowbrick.classifier import ROCAUC\n",
    "from sklearn.model_selection import train_test_split\n",
    "from sklearn.linear_model import RidgeClassifier\n",
    "from sklearn.naive_bayes import GaussianNB\n",
    "from yellowbrick.classifier import ClassificationReport\n",
    "from sklearn import metrics"
   ]
  },
  {
   "cell_type": "code",
   "execution_count": 2,
   "metadata": {},
   "outputs": [],
   "source": [
    "username = \"postgres\"\n",
    "password = \"ruchi204\"\n",
    "\n",
    "\n",
    "connection = pg.connect(dbname = \"postgres\",\n",
    "                                      user = username,\n",
    "                                      password = password,\n",
    "                                      host = \"127.0.0.1\",\n",
    "                                      port = \"5432\")"
   ]
  },
  {
   "cell_type": "code",
   "execution_count": 3,
   "metadata": {},
   "outputs": [
    {
     "name": "stdout",
     "output_type": "stream",
     "text": [
      "{'user': 'postgres', 'dbname': 'postgres', 'host': '127.0.0.1', 'port': '5432', 'tty': '', 'options': '', 'sslmode': 'prefer', 'sslcompression': '0', 'krbsrvname': 'postgres', 'target_session_attrs': 'any'} \n",
      "\n",
      "You are connected to -  ('PostgreSQL 10.9, compiled by Visual C++ build 1800, 64-bit',) \n",
      "\n"
     ]
    }
   ],
   "source": [
    "cursor = connection.cursor()\n",
    "\n",
    "print ( connection.get_dsn_parameters(),\"\\n\")\n",
    "\n",
    "cursor.execute(\"SELECT version();\")\n",
    "record = cursor.fetchone()\n",
    "print(\"You are connected to - \", record,\"\\n\")"
   ]
  },
  {
   "cell_type": "markdown",
   "metadata": {},
   "source": [
    "pathname = \"C:/Users/venka/Documents/Bujjy/Georgetown Data Science/Capstone Data\"\n",
    "#combine all files in the list\n",
    "all_filenames = [f\"{pathname}/Weather Data 2017.csv\", f\"{pathname}/Weather Data 2018.csv\"]\n",
    "\n",
    "combined_wthr = pd.concat([pd.read_csv(f) for f in all_filenames ])\n",
    "#export to csv\n",
    "combined_wthr.to_csv(f\"{pathname}/combined_wthr.csv\", index=False, encoding='utf-8-sig')"
   ]
  },
  {
   "cell_type": "markdown",
   "metadata": {},
   "source": [
    "combined_wthr.tail()"
   ]
  },
  {
   "cell_type": "code",
   "execution_count": 4,
   "metadata": {
    "scrolled": true
   },
   "outputs": [
    {
     "name": "stderr",
     "output_type": "stream",
     "text": [
      "c:\\program files\\python37\\lib\\site-packages\\IPython\\core\\interactiveshell.py:3049: DtypeWarning: Columns (13) have mixed types. Specify dtype option on import or set low_memory=False.\n",
      "  interactivity=interactivity, compiler=compiler, result=result)\n"
     ]
    },
    {
     "data": {
      "text/html": [
       "<div>\n",
       "<style scoped>\n",
       "    .dataframe tbody tr th:only-of-type {\n",
       "        vertical-align: middle;\n",
       "    }\n",
       "\n",
       "    .dataframe tbody tr th {\n",
       "        vertical-align: top;\n",
       "    }\n",
       "\n",
       "    .dataframe thead th {\n",
       "        text-align: right;\n",
       "    }\n",
       "</style>\n",
       "<table border=\"1\" class=\"dataframe\">\n",
       "  <thead>\n",
       "    <tr style=\"text-align: right;\">\n",
       "      <th></th>\n",
       "      <th>UPA</th>\n",
       "      <th>EventDate</th>\n",
       "      <th>State</th>\n",
       "      <th>Primary NA</th>\n",
       "      <th>Hospitaliz</th>\n",
       "      <th>Amputation</th>\n",
       "      <th>Nature</th>\n",
       "      <th>Part of Bo</th>\n",
       "      <th>Event</th>\n",
       "      <th>Source</th>\n",
       "      <th>NAMELSAD</th>\n",
       "      <th>Month</th>\n",
       "      <th>InsideUS</th>\n",
       "    </tr>\n",
       "  </thead>\n",
       "  <tbody>\n",
       "    <tr>\n",
       "      <th>39825</th>\n",
       "      <td>1339236</td>\n",
       "      <td>2018-05-17</td>\n",
       "      <td>FLORIDA</td>\n",
       "      <td>561730</td>\n",
       "      <td>1</td>\n",
       "      <td>1.0</td>\n",
       "      <td>1311</td>\n",
       "      <td>4422</td>\n",
       "      <td>642</td>\n",
       "      <td>483</td>\n",
       "      <td>NaN</td>\n",
       "      <td>5</td>\n",
       "      <td>0</td>\n",
       "    </tr>\n",
       "    <tr>\n",
       "      <th>39826</th>\n",
       "      <td>1358531</td>\n",
       "      <td>2018-07-09</td>\n",
       "      <td>TEXAS</td>\n",
       "      <td>213112</td>\n",
       "      <td>1</td>\n",
       "      <td>1.0</td>\n",
       "      <td>1311</td>\n",
       "      <td>4422</td>\n",
       "      <td>640</td>\n",
       "      <td>8621</td>\n",
       "      <td>NaN</td>\n",
       "      <td>7</td>\n",
       "      <td>0</td>\n",
       "    </tr>\n",
       "    <tr>\n",
       "      <th>39827</th>\n",
       "      <td>1357235</td>\n",
       "      <td>2018-07-10</td>\n",
       "      <td>ALASKA</td>\n",
       "      <td>445220</td>\n",
       "      <td>0</td>\n",
       "      <td>1.0</td>\n",
       "      <td>1311</td>\n",
       "      <td>4422</td>\n",
       "      <td>6411</td>\n",
       "      <td>3719</td>\n",
       "      <td>NaN</td>\n",
       "      <td>7</td>\n",
       "      <td>0</td>\n",
       "    </tr>\n",
       "    <tr>\n",
       "      <th>39828</th>\n",
       "      <td>1374080</td>\n",
       "      <td>2018-08-22</td>\n",
       "      <td>WEST VIRGINIA</td>\n",
       "      <td>237120</td>\n",
       "      <td>1</td>\n",
       "      <td>0.0</td>\n",
       "      <td>194</td>\n",
       "      <td>310</td>\n",
       "      <td>2731</td>\n",
       "      <td>8423</td>\n",
       "      <td>NaN</td>\n",
       "      <td>8</td>\n",
       "      <td>0</td>\n",
       "    </tr>\n",
       "    <tr>\n",
       "      <th>39829</th>\n",
       "      <td>1375142</td>\n",
       "      <td>2018-08-24</td>\n",
       "      <td>TEXAS</td>\n",
       "      <td>213112</td>\n",
       "      <td>1</td>\n",
       "      <td>1.0</td>\n",
       "      <td>1311</td>\n",
       "      <td>4429</td>\n",
       "      <td>6252</td>\n",
       "      <td>7125</td>\n",
       "      <td>NaN</td>\n",
       "      <td>8</td>\n",
       "      <td>0</td>\n",
       "    </tr>\n",
       "    <tr>\n",
       "      <th>39830</th>\n",
       "      <td>1376166</td>\n",
       "      <td>2018-08-25</td>\n",
       "      <td>TEXAS</td>\n",
       "      <td>928110</td>\n",
       "      <td>1</td>\n",
       "      <td>0.0</td>\n",
       "      <td>111</td>\n",
       "      <td>52</td>\n",
       "      <td>4334</td>\n",
       "      <td>6521</td>\n",
       "      <td>NaN</td>\n",
       "      <td>8</td>\n",
       "      <td>1</td>\n",
       "    </tr>\n",
       "    <tr>\n",
       "      <th>39831</th>\n",
       "      <td>1384824</td>\n",
       "      <td>2018-09-19</td>\n",
       "      <td>TEXAS</td>\n",
       "      <td>213112</td>\n",
       "      <td>1</td>\n",
       "      <td>0.0</td>\n",
       "      <td>1510</td>\n",
       "      <td>513</td>\n",
       "      <td>5544</td>\n",
       "      <td>10</td>\n",
       "      <td>NaN</td>\n",
       "      <td>9</td>\n",
       "      <td>0</td>\n",
       "    </tr>\n",
       "    <tr>\n",
       "      <th>39832</th>\n",
       "      <td>1388899</td>\n",
       "      <td>2018-10-04</td>\n",
       "      <td>COLORADO</td>\n",
       "      <td>713920</td>\n",
       "      <td>1</td>\n",
       "      <td>0.0</td>\n",
       "      <td>111</td>\n",
       "      <td>899</td>\n",
       "      <td>4314</td>\n",
       "      <td>3489</td>\n",
       "      <td>NaN</td>\n",
       "      <td>10</td>\n",
       "      <td>0</td>\n",
       "    </tr>\n",
       "    <tr>\n",
       "      <th>39833</th>\n",
       "      <td>1392712</td>\n",
       "      <td>2018-10-17</td>\n",
       "      <td>FLORIDA</td>\n",
       "      <td>238990</td>\n",
       "      <td>1</td>\n",
       "      <td>0.0</td>\n",
       "      <td>111</td>\n",
       "      <td>899</td>\n",
       "      <td>4332</td>\n",
       "      <td>6540</td>\n",
       "      <td>NaN</td>\n",
       "      <td>10</td>\n",
       "      <td>1</td>\n",
       "    </tr>\n",
       "    <tr>\n",
       "      <th>39834</th>\n",
       "      <td>1416176</td>\n",
       "      <td>2018-10-26</td>\n",
       "      <td>WEST VIRGINIA</td>\n",
       "      <td>561311</td>\n",
       "      <td>1</td>\n",
       "      <td>0.0</td>\n",
       "      <td>194</td>\n",
       "      <td>330</td>\n",
       "      <td>620</td>\n",
       "      <td>4120</td>\n",
       "      <td>NaN</td>\n",
       "      <td>10</td>\n",
       "      <td>0</td>\n",
       "    </tr>\n",
       "  </tbody>\n",
       "</table>\n",
       "</div>"
      ],
      "text/plain": [
       "           UPA   EventDate          State Primary NA  Hospitaliz  Amputation  \\\n",
       "39825  1339236  2018-05-17        FLORIDA     561730           1         1.0   \n",
       "39826  1358531  2018-07-09          TEXAS     213112           1         1.0   \n",
       "39827  1357235  2018-07-10         ALASKA     445220           0         1.0   \n",
       "39828  1374080  2018-08-22  WEST VIRGINIA     237120           1         0.0   \n",
       "39829  1375142  2018-08-24          TEXAS     213112           1         1.0   \n",
       "39830  1376166  2018-08-25          TEXAS     928110           1         0.0   \n",
       "39831  1384824  2018-09-19          TEXAS     213112           1         0.0   \n",
       "39832  1388899  2018-10-04       COLORADO     713920           1         0.0   \n",
       "39833  1392712  2018-10-17        FLORIDA     238990           1         0.0   \n",
       "39834  1416176  2018-10-26  WEST VIRGINIA     561311           1         0.0   \n",
       "\n",
       "       Nature  Part of Bo  Event  Source NAMELSAD  Month  InsideUS  \n",
       "39825    1311        4422    642     483      NaN      5         0  \n",
       "39826    1311        4422    640    8621      NaN      7         0  \n",
       "39827    1311        4422   6411    3719      NaN      7         0  \n",
       "39828     194         310   2731    8423      NaN      8         0  \n",
       "39829    1311        4429   6252    7125      NaN      8         0  \n",
       "39830     111          52   4334    6521      NaN      8         1  \n",
       "39831    1510         513   5544      10      NaN      9         0  \n",
       "39832     111         899   4314    3489      NaN     10         0  \n",
       "39833     111         899   4332    6540      NaN     10         1  \n",
       "39834     194         330    620    4120      NaN     10         0  "
      ]
     },
     "execution_count": 4,
     "metadata": {},
     "output_type": "execute_result"
    }
   ],
   "source": [
    "#def load_data()C:/Users/venka/Documents/Bujjy/Georgetown Data Science/Capstone Data\n",
    "injury_data = pd.read_csv(\"C:/Users/venka/Documents/Bujjy/Georgetown Data Science/Capstone Data/wrangled_injury._withcounties.csv\", \n",
    "                          sep=',', usecols=[\"UPA\", \"EventDate\", \"State\", \"NAMELSAD\", \"Month\", \"InsideUS\", \"Event\",\"Source\",\"Primary NA\",\"Part of Bo\",\"Nature\", \"Amputation\", \"Hospitaliz\"])\n",
    "\n",
    "parse_dates = ['EVENTDATE']\n",
    "\n",
    "injury_data.tail(10)\n",
    "\n",
    "#weather_data = pd.read_csv(\"C:/Users/venka/Documents/Bujjy/Georgetown Data Science/Capstone Data/combined_csv.csv\", sep=',',usecols=[\"ZIPCODE\",\"EVENTDATE\",\"EVENTCODE\"], dtype={'ZIPCODE': float, 'EVENTDATE': str,'EVENTCODE': str}, parse_dates=parse_dates)\n",
    "\n",
    "#injury_data.head(10)\n",
    "\n",
    "#weather_data.head(10)\n",
    "\n",
    "#injury_merge= pd.merge(left=injury_data,right=weather_data,how='left', left_on=['EVENTDATE','Zip'], right_on=['EVENTDATE','ZIPCODE'])\n",
    "\n",
    "#injury_merge=injury_merge.astype(dtype = {\"EVENTDATE\":\"datetime64\"}, inplace=\"true\")\n",
    "                       \n",
    "\n",
    "\n"
   ]
  },
  {
   "cell_type": "code",
   "execution_count": 5,
   "metadata": {
    "scrolled": true
   },
   "outputs": [],
   "source": [
    "injury_data['Hospitaliz'].value_counts()\n",
    "\n",
    "injury_data['NAMELSAD'].isna().sum()\n",
    "\n",
    "injury_data['Amputation'].value_counts()\n",
    "\n",
    "injury_data.dropna(how='any',inplace=True)\n"
   ]
  },
  {
   "cell_type": "code",
   "execution_count": 6,
   "metadata": {},
   "outputs": [
    {
     "data": {
      "text/plain": [
       "0"
      ]
     },
     "execution_count": 6,
     "metadata": {},
     "output_type": "execute_result"
    }
   ],
   "source": [
    "injury_data['NAMELSAD'].isna().sum()"
   ]
  },
  {
   "cell_type": "code",
   "execution_count": 7,
   "metadata": {},
   "outputs": [
    {
     "data": {
      "text/plain": [
       "1    39755\n",
       "0       28\n",
       "Name: InsideUS, dtype: int64"
      ]
     },
     "execution_count": 7,
     "metadata": {},
     "output_type": "execute_result"
    }
   ],
   "source": [
    "injury_data['InsideUS'].value_counts()"
   ]
  },
  {
   "cell_type": "code",
   "execution_count": 8,
   "metadata": {},
   "outputs": [
    {
     "data": {
      "text/plain": [
       "0.0    28910\n",
       "1.0    10573\n",
       "Name: Amputation, dtype: int64"
      ]
     },
     "execution_count": 8,
     "metadata": {},
     "output_type": "execute_result"
    }
   ],
   "source": [
    "injury_data= injury_data[(injury_data['Hospitaliz'] == 0)|(injury_data['Hospitaliz'] ==1)]\n",
    "\n",
    "injury_data= injury_data[(injury_data['Amputation'] == 0.0)|(injury_data['Amputation'] ==1.0)]\n",
    "\n",
    "injury_data= injury_data[(injury_data['InsideUS'] == 1)]\n",
    "\n",
    "injury_data['Amputation'].value_counts()"
   ]
  },
  {
   "cell_type": "code",
   "execution_count": 9,
   "metadata": {},
   "outputs": [
    {
     "data": {
      "text/plain": [
       "1    39483\n",
       "Name: InsideUS, dtype: int64"
      ]
     },
     "execution_count": 9,
     "metadata": {},
     "output_type": "execute_result"
    }
   ],
   "source": [
    "injury_data['InsideUS'].value_counts()"
   ]
  },
  {
   "cell_type": "code",
   "execution_count": 10,
   "metadata": {},
   "outputs": [],
   "source": [
    "injury_data.drop(['InsideUS'], axis=1,inplace=True)"
   ]
  },
  {
   "cell_type": "code",
   "execution_count": 11,
   "metadata": {},
   "outputs": [
    {
     "name": "stdout",
     "output_type": "stream",
     "text": [
      "<class 'pandas.core.frame.DataFrame'>\n",
      "Int64Index: 39483 entries, 1 to 39786\n",
      "Data columns (total 12 columns):\n",
      "UPA           39483 non-null int64\n",
      "EventDate     39483 non-null object\n",
      "State         39483 non-null object\n",
      "Primary NA    39483 non-null object\n",
      "Hospitaliz    39483 non-null int64\n",
      "Amputation    39483 non-null float64\n",
      "Nature        39483 non-null int64\n",
      "Part of Bo    39483 non-null int64\n",
      "Event         39483 non-null int64\n",
      "Source        39483 non-null int64\n",
      "NAMELSAD      39483 non-null object\n",
      "Month         39483 non-null int64\n",
      "dtypes: float64(1), int64(7), object(4)\n",
      "memory usage: 3.9+ MB\n"
     ]
    }
   ],
   "source": [
    "injury_data.info()"
   ]
  },
  {
   "cell_type": "code",
   "execution_count": 14,
   "metadata": {
    "scrolled": true
   },
   "outputs": [
    {
     "data": {
      "text/html": [
       "<div>\n",
       "<style scoped>\n",
       "    .dataframe tbody tr th:only-of-type {\n",
       "        vertical-align: middle;\n",
       "    }\n",
       "\n",
       "    .dataframe tbody tr th {\n",
       "        vertical-align: top;\n",
       "    }\n",
       "\n",
       "    .dataframe thead th {\n",
       "        text-align: right;\n",
       "    }\n",
       "</style>\n",
       "<table border=\"1\" class=\"dataframe\">\n",
       "  <thead>\n",
       "    <tr style=\"text-align: right;\">\n",
       "      <th></th>\n",
       "      <th>UPA</th>\n",
       "      <th>EventDate</th>\n",
       "      <th>State</th>\n",
       "      <th>Primary NA</th>\n",
       "      <th>Hospitaliz</th>\n",
       "      <th>Amputation</th>\n",
       "      <th>Nature</th>\n",
       "      <th>Part of Bo</th>\n",
       "      <th>Event</th>\n",
       "      <th>Source</th>\n",
       "      <th>NAMELSAD</th>\n",
       "      <th>Month</th>\n",
       "    </tr>\n",
       "  </thead>\n",
       "  <tbody>\n",
       "    <tr>\n",
       "      <th>39782</th>\n",
       "      <td>1216201</td>\n",
       "      <td>2017-05-17</td>\n",
       "      <td>WEST VIRGINIA</td>\n",
       "      <td>491110</td>\n",
       "      <td>1</td>\n",
       "      <td>0.0</td>\n",
       "      <td>1720</td>\n",
       "      <td>6</td>\n",
       "      <td>531</td>\n",
       "      <td>9262</td>\n",
       "      <td>Wayne County</td>\n",
       "      <td>5</td>\n",
       "    </tr>\n",
       "    <tr>\n",
       "      <th>39783</th>\n",
       "      <td>1244626</td>\n",
       "      <td>2017-07-24</td>\n",
       "      <td>WEST VIRGINIA</td>\n",
       "      <td>237310</td>\n",
       "      <td>1</td>\n",
       "      <td>0.0</td>\n",
       "      <td>111</td>\n",
       "      <td>513</td>\n",
       "      <td>629</td>\n",
       "      <td>3259</td>\n",
       "      <td>Wayne County</td>\n",
       "      <td>7</td>\n",
       "    </tr>\n",
       "    <tr>\n",
       "      <th>39784</th>\n",
       "      <td>1359071</td>\n",
       "      <td>2018-07-13</td>\n",
       "      <td>WEST VIRGINIA</td>\n",
       "      <td>238110</td>\n",
       "      <td>1</td>\n",
       "      <td>0.0</td>\n",
       "      <td>132</td>\n",
       "      <td>130</td>\n",
       "      <td>6252</td>\n",
       "      <td>7224</td>\n",
       "      <td>Wayne County</td>\n",
       "      <td>7</td>\n",
       "    </tr>\n",
       "    <tr>\n",
       "      <th>39785</th>\n",
       "      <td>1359510</td>\n",
       "      <td>2018-07-16</td>\n",
       "      <td>WEST VIRGINIA</td>\n",
       "      <td>491110</td>\n",
       "      <td>1</td>\n",
       "      <td>0.0</td>\n",
       "      <td>1729</td>\n",
       "      <td>6</td>\n",
       "      <td>531</td>\n",
       "      <td>9262</td>\n",
       "      <td>Wayne County</td>\n",
       "      <td>7</td>\n",
       "    </tr>\n",
       "    <tr>\n",
       "      <th>39786</th>\n",
       "      <td>1360237</td>\n",
       "      <td>2018-07-17</td>\n",
       "      <td>WEST VIRGINIA</td>\n",
       "      <td>541990</td>\n",
       "      <td>1</td>\n",
       "      <td>0.0</td>\n",
       "      <td>111</td>\n",
       "      <td>135</td>\n",
       "      <td>6241</td>\n",
       "      <td>4120</td>\n",
       "      <td>Wayne County</td>\n",
       "      <td>7</td>\n",
       "    </tr>\n",
       "  </tbody>\n",
       "</table>\n",
       "</div>"
      ],
      "text/plain": [
       "           UPA  EventDate          State Primary NA  Hospitaliz Amputation  \\\n",
       "39782  1216201 2017-05-17  WEST VIRGINIA     491110           1        0.0   \n",
       "39783  1244626 2017-07-24  WEST VIRGINIA     237310           1        0.0   \n",
       "39784  1359071 2018-07-13  WEST VIRGINIA     238110           1        0.0   \n",
       "39785  1359510 2018-07-16  WEST VIRGINIA     491110           1        0.0   \n",
       "39786  1360237 2018-07-17  WEST VIRGINIA     541990           1        0.0   \n",
       "\n",
       "       Nature  Part of Bo  Event  Source      NAMELSAD Month  \n",
       "39782    1720           6    531    9262  Wayne County     5  \n",
       "39783     111         513    629    3259  Wayne County     7  \n",
       "39784     132         130   6252    7224  Wayne County     7  \n",
       "39785    1729           6    531    9262  Wayne County     7  \n",
       "39786     111         135   6241    4120  Wayne County     7  "
      ]
     },
     "execution_count": 14,
     "metadata": {},
     "output_type": "execute_result"
    }
   ],
   "source": [
    "#injury_data['UPA'].is_unique\n",
    "\n",
    "#injury_data.set_index('UPA', inplace=True)\n",
    "\n",
    "#injury_data = injury_data.fillna('')\n",
    "\n",
    "#injury_data.rename(columns={'Primary NAICS':'Primary_NAICS','Final Narrative':'Final_Narrative','Part of Body':'Part_Of_Body','Part of Body Title':'Part_Of_Body_Title','Secondary Source':'Secondary_Source','Secondary Source Title':'Secondary_Source_Title'}, inplace=True)\n",
    "\n",
    "#injury_data.head(10)\n",
    "#\n",
    "#for col in injury_data.columns:\n",
    "\n",
    "    #print(\"The column name is\", col, \"and the type is\", injury_data[col].dtype, sep=\"--\")\n",
    "    \n",
    "#injury_data=injury_data.astype(dtype = {\"UPA\":\"int64\"}, inplace=True)\n",
    "    \n",
    "injury_data=injury_data.astype(dtype = {\"EventDate\":\"datetime64\"}, inplace=True)\n",
    "        \n",
    "injury_data=injury_data.astype(dtype = {\"State\":\"str\"}, inplace=True)\n",
    "    \n",
    "injury_data=injury_data.astype(dtype = {\"Primary NA\":\"str\"}, inplace=True)\n",
    "    \n",
    "injury_data=injury_data.astype(dtype = {\"Hospitaliz\":\"int64\"}, inplace=True)\n",
    "    \n",
    "injury_data=injury_data.astype(dtype = {\"Amputation\":\"str\"}, inplace=True)\n",
    "    \n",
    "injury_data=injury_data.astype(dtype = {\"Nature\":\"int64\"}, inplace=True)\n",
    "    \n",
    "injury_data=injury_data.astype(dtype = {\"Part of Bo\":\"int64\"}, inplace=True)\n",
    "    \n",
    "injury_data=injury_data.astype(dtype = {\"Event\":\"int64\"}, inplace=True)\n",
    "    \n",
    "injury_data=injury_data.astype(dtype = {\"Source\":\"int64\"}, inplace=True)\n",
    "    \n",
    "injury_data=injury_data.astype(dtype = {\"NAMELSAD\":\"str\"}, inplace=True)\n",
    "injury_data=injury_data.astype(dtype = {\"Month\":\"str\"}, inplace=True)\n",
    "#injury_data=injury_data.astype(dtype = {\"InsideUS\":\"int64\"}, inplace=True)\n",
    "    \n",
    "\n",
    "#print(injury_data[\"InsideUS\"].dtype)\n",
    "\n",
    "\n",
    "injury_data.shape\n",
    "\n",
    "injury_data.tail()\n",
    "    "
   ]
  },
  {
   "cell_type": "code",
   "execution_count": 15,
   "metadata": {},
   "outputs": [
    {
     "name": "stdout",
     "output_type": "stream",
     "text": [
      "<class 'pandas.core.frame.DataFrame'>\n",
      "Int64Index: 39483 entries, 1 to 39786\n",
      "Data columns (total 12 columns):\n",
      "UPA           39483 non-null int64\n",
      "EventDate     39483 non-null datetime64[ns]\n",
      "State         39483 non-null object\n",
      "Primary NA    39483 non-null object\n",
      "Hospitaliz    39483 non-null int64\n",
      "Amputation    39483 non-null object\n",
      "Nature        39483 non-null int64\n",
      "Part of Bo    39483 non-null int64\n",
      "Event         39483 non-null int64\n",
      "Source        39483 non-null int64\n",
      "NAMELSAD      39483 non-null object\n",
      "Month         39483 non-null object\n",
      "dtypes: datetime64[ns](1), int64(6), object(5)\n",
      "memory usage: 3.9+ MB\n"
     ]
    }
   ],
   "source": [
    "injury_data.info()"
   ]
  },
  {
   "cell_type": "code",
   "execution_count": 16,
   "metadata": {},
   "outputs": [],
   "source": [
    "le = preprocessing.LabelEncoder()\n",
    "injury_data['State'] = le.fit_transform(injury_data.State.values)\n",
    "\n",
    "injury_data['NAMELSAD'] = le.fit_transform(injury_data.NAMELSAD.values)\n",
    "\n",
    "injury_data['Amputation'] = le.fit_transform(injury_data.Amputation.values)\n",
    "\n",
    "injury_data['Month'] = le.fit_transform(injury_data.Month.values)\n",
    "\n",
    "injury_data['Primary NA'] = le.fit_transform(injury_data.Month.values)\n",
    "\n",
    "#injury_data.apply(preprocessing.LabelEncoder().fit_transform(injury_data['Amputation']))"
   ]
  },
  {
   "cell_type": "code",
   "execution_count": 17,
   "metadata": {
    "scrolled": true
   },
   "outputs": [
    {
     "name": "stdout",
     "output_type": "stream",
     "text": [
      "(39483, 9)\n",
      "(39483, 1)\n"
     ]
    },
    {
     "name": "stderr",
     "output_type": "stream",
     "text": [
      "c:\\program files\\python37\\lib\\site-packages\\sklearn\\preprocessing\\label.py:235: DataConversionWarning: A column-vector y was passed when a 1d array was expected. Please change the shape of y to (n_samples, ), for example using ravel().\n",
      "  y = column_or_1d(y, warn=True)\n",
      "c:\\program files\\python37\\lib\\site-packages\\sklearn\\linear_model\\ridge.py:909: DataConversionWarning: A column-vector y was passed when a 1d array was expected. Please change the shape of y to (n_samples, ), for example using ravel().\n",
      "  y = column_or_1d(y, warn=True)\n"
     ]
    },
    {
     "data": {
      "image/png": "[encoded data removed]",
      "text/plain": [
       "<Figure size 1080x720 with 1 Axes>"
      ]
     },
     "metadata": {
      "needs_background": "light"
     },
     "output_type": "display_data"
    }
   ],
   "source": [
    "#X = injury_data[[\"NAMELSAD\", \"Month\", \"InsideUS\", \"Event\",\"Source\",\"Primary NA\",\"Part of Bo\",\"Nature\", \"Amputation\", \"Hospitaliz\"]].values\n",
    "\n",
    "#injury_data.isnull().values.any()\n",
    "\n",
    "\n",
    "\n",
    "X = injury_data[[\"State\",\"Source\",\"Part of Bo\",\"Nature\",\"NAMELSAD\",\"Amputation\",\"Month\",\"Primary NA\",\"Event\"]].values\n",
    "#X = X.fillna('')\n",
    "\n",
    "y = injury_data[[\"Hospitaliz\"]].values\n",
    "\n",
    "print(X.shape)\n",
    "\n",
    "print(y.shape)\n",
    "\n",
    "#y = y.fillna('')\n",
    "\n",
    "oenc = OrdinalEncoder()\n",
    "oenc.fit_transform(X)\n",
    "yoenc = LabelEncoder()\n",
    "yoenc.fit_transform(y)\n",
    "\n",
    "#X = OrdinalEncoder().fit_transform(X)\n",
    "#y = LabelEncoder().fit_transform(y)\n",
    "\n",
    "\n",
    "#classes = [\"0\", \"1\"]\n",
    " \n",
    "\n",
    "\n",
    "X_train, X_test, y_train, y_test = train_test_split(\n",
    "    X, y, test_size=0.2\n",
    ")\n",
    "\n",
    "visualizer = ROCAUC(\n",
    "    RidgeClassifier(), micro=False, macro=False, per_class=False, size=(1080, 720))\n",
    "\n",
    "#fpr, tpr, thresholds = metrics.roc_auc_score(X, y)\n",
    "#metrics.auc(fpr, tpr)\n",
    "\n",
    "#bayes = GaussianNB()\n",
    "#visualizer = ClassificationReport(bayes, support=True, size=(1080, 720))\n",
    "\n",
    "visualizer.fit(X_train, y_train)  # Fit the training data to the visualizer\n",
    "visualizer.score(X_test, y_test)  # Evaluate the model on the test data\n",
    "visualizer.poof()                 # Draw/show/poof the data\n",
    "\n",
    "# Specify the target classes\n",
    "#classes = [\"unoccupied\", \"occupied\"]\n",
    "\n",
    "# Instantiate the visualizer\n",
    "#visualizer = RadViz(size=(1080, 720))\n",
    "\n",
    "#visualizer.fit(X, y)           # Fit the data to the visualizer\n",
    "#visualizer.transform(X)        # Transform the data\n",
    "#visualizer.poof()              # Draw/show/poof the data\n"
   ]
  },
  {
   "cell_type": "code",
   "execution_count": null,
   "metadata": {},
   "outputs": [],
   "source": [
    "print(injury_data[\"EVENTDATE\"].dtype)\n",
    "months_map = {1: 'Jan',2: 'Feb', 3:'Mar', 4:'Apr', 5:'May', 6:'Jun',7: 'Jul', 8: 'Aug', 9:'Sep', 10:'Oct', 11:'Nov', 12:'Dec'}\n",
    "def mapper(month):\n",
    "    return months_map[month]\n",
    "\n",
    "mapper(1)\n",
    "\n",
    "injury_data['month'] = pd.DatetimeIndex(injury_data['EVENTDATE']).month\n",
    "injury_data['month'] = injury_data['month'].apply(lambda x: mapper(x))\n",
    "injury_data['month'].unique()\n",
    "injury_data.head(10)\n",
    "    "
   ]
  },
  {
   "cell_type": "code",
   "execution_count": null,
   "metadata": {},
   "outputs": [],
   "source": [
    "sns.pairplot(injury_data, x_vars='Zip', y_vars=['Nature','EVENTDATE'],diag_kind='kde')\n",
    "             #hue='Zip', diag_kind=\"EVENTDATE\", height=3)\n",
    "#sns.jointplot(\"EVENTDATE\",\"Zip\",data=injury_data,kind='reg',height=12)"
   ]
  },
  {
   "cell_type": "code",
   "execution_count": null,
   "metadata": {},
   "outputs": [],
   "source": [
    "#pd.plotting.scatter_matrix(injury_data,figsize=(15,15),marker='0',hist_kwds={'bins': 20}, s=60, alpha=.8)\n",
    "\n",
    "pd.plotting.scatter_matrix(injury_data, alpha=0.2, figsize=(18,18), diagonal='kde')\n",
    "plt.show()"
   ]
  }
 ],
 "metadata": {
  "kernelspec": {
   "display_name": "Python 3",
   "language": "python",
   "name": "python3"
  },
  "language_info": {
   "codemirror_mode": {
    "name": "ipython",
    "version": 3
   },
   "file_extension": ".py",
   "mimetype": "text/x-python",
   "name": "python",
   "nbconvert_exporter": "python",
   "pygments_lexer": "ipython3",
   "version": "3.6.8"
  }
 },
 "nbformat": 4,
 "nbformat_minor": 2
}
